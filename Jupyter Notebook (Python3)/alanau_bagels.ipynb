{
 "cells": [
  {
   "cell_type": "markdown",
   "metadata": {},
   "source": [
    "# Bagels: a guessing game \n",
    "__author__ = 'Alan Au'\n",
    "__date__   = '2017-11-09'\n",
    "\n",
    "The game will generate a 3-digit non-repeating number from digits 0-9.\n",
    "- 'Fermi'  = correct digit in proper place\n",
    "- 'Pico'   = correct digit in wrong place\n",
    "- 'Bagels' = no correct digits\n",
    "  \n",
    "\n",
    "### There are the imported modules that I'll use for this project:"
   ]
  },
  {
   "cell_type": "code",
   "execution_count": null,
   "metadata": {
    "collapsed": true
   },
   "outputs": [],
   "source": [
    "import random  # for sample\n",
    "from string import digits as digits  # saves me some typing"
   ]
  },
  {
   "cell_type": "markdown",
   "metadata": {},
   "source": [
    "### Here's a random number generator, which will return a list of 3 digits:"
   ]
  },
  {
   "cell_type": "code",
   "execution_count": null,
   "metadata": {
    "collapsed": true
   },
   "outputs": [],
   "source": [
    "def generate_secret():\n",
    "    numbers = list(map(int,digits))   # seed it with 0-9\n",
    "    return(random.sample(numbers,3))  # return a list of 3 random selections"
   ]
  },
  {
   "cell_type": "markdown",
   "metadata": {},
   "source": [
    "### Let's write some helper functions to process guesses:"
   ]
  },
  {
   "cell_type": "code",
   "execution_count": null,
   "metadata": {
    "collapsed": true
   },
   "outputs": [],
   "source": [
    "# convert string to a list of integers\n",
    "def guess_to_list(str_guess):\n",
    "    list_guess = []\n",
    "    for str_digit in str_guess:\n",
    "        list_guess.append(int(str_digit))\n",
    "    return(list_guess)\n",
    "\n",
    "# test guess vs. secret (both are lists) and return fermis/picos/bagels (str)\n",
    "def guess(guess, secret):\n",
    "\n",
    "    # initialize\n",
    "    fermi = pico = 0\n",
    "    output = []\n",
    "    \n",
    "    # input processing\n",
    "    for index in range(len(guess)):\n",
    "        digit = guess[index]\n",
    "        if digit==secret[index]:  # this digit is in the right spot\n",
    "            fermi += 1\n",
    "        elif digit in secret:  # this digit is correct but in the wrong spot\n",
    "            pico += 1\n",
    "\n",
    "    # output processing\n",
    "    for f in range(fermi):\n",
    "        output.append(\"Fermi\")\n",
    "    for p in range(pico):\n",
    "        output.append(\"Pico\")\n",
    "    if output==[]: # no Picos or Fermis, so return Bagels\n",
    "        output.append(\"Bagels\")\n",
    "    return(\" \".join(output))"
   ]
  },
  {
   "cell_type": "markdown",
   "metadata": {},
   "source": [
    "### Here's a wrapper to run the game:"
   ]
  },
  {
   "cell_type": "code",
   "execution_count": null,
   "metadata": {
    "collapsed": true
   },
   "outputs": [],
   "source": [
    "def bagels():\n",
    "    greeting = \"Welcome to Bagels! Type 'help' for instructions.\"\n",
    "    help_text = \"\"\"The game will generate a 3-digit non-repeating number.\n",
    "  'Fermi'  = correct digit in proper place\n",
    "  'Pico'   = correct digit in wrong place\n",
    "  'Bagels' = no correct digits\n",
    "\n",
    "Other commands: hint, answer, exit/quit\"\"\"\n",
    "    \n",
    "    print(greeting, flush=True)  # this is *supposed* to print first but doesn't always\n",
    "    \n",
    "    secret = generate_secret()\n",
    "    done = play_again = False\n",
    "    hint = []\n",
    "    count = 0\n",
    "    \n",
    "    while not done:\n",
    "        print(flush=True)\n",
    "        str_guess = input(\"Please guess a number: \").lower()\n",
    "        if str_guess==\"answer\":\n",
    "            print(\"The answer is:\", \"\".join(list(map(str,secret))))\n",
    "            play_again = True\n",
    "        elif str_guess==\"quit\" or str_guess.lower()==\"exit\":\n",
    "            done = True\n",
    "            continue  # exit immediately\n",
    "        elif str_guess==\"hint\":\n",
    "            if len(hint) > 0:\n",
    "                print(\"You know it doesn't contain these numbers:\", \" \".join(list(map(str,hint))))\n",
    "            else:\n",
    "                print(\"You don't have any confirmed information yet. Make more guesses!\")\n",
    "        elif str_guess==\"help\":\n",
    "            print(help_text)\n",
    "        else:\n",
    "            try:\n",
    "                int_guess=int(str_guess)\n",
    "            except ValueError:  # if not an integer, get a new input\n",
    "                print(\"Sorry, I don't know what to do with that input.\")\n",
    "                continue  # get new input\n",
    "            \n",
    "            if str_guess[0]=='-':\n",
    "                print(\"Sorry, positive numbers only. Please try again!\")\n",
    "                continue  # get new input\n",
    "            elif len(str_guess) != len(secret):\n",
    "                print(\"Oops! Your guess should contain \"+str(len(secret))+ \" digits. Please try again!\")\n",
    "                continue  # get new input\n",
    "            \n",
    "            count += 1  # if it's a valid guess, increment the counter\n",
    "            list_guess = guess_to_list(str_guess)\n",
    "            result = guess(list_guess, secret)  # process integer input\n",
    "            if result==\"Bagels\":\n",
    "                for digit in list_guess:  # do some 'hint' processing\n",
    "                    if len(hint)==0:\n",
    "                        hint = [int(digit)]\n",
    "                    elif digit not in hint:\n",
    "                        hint.append(int(digit))\n",
    "                    hint.sort()\n",
    "            print(result)\n",
    "            if result==\"Fermi Fermi Fermi\":\n",
    "                if count==1:\n",
    "                    print(\"You got it on your first guess. Lucky!\")\n",
    "                else:\n",
    "                    print(\"You got it after\",count,\"guesses. Nice job!\")\n",
    "                play_again = True\n",
    "\n",
    "        if play_again:\n",
    "            if input(\"\\nPlay again (y/N)? \").lower()==\"y\":\n",
    "                play_again = False\n",
    "                secret = generate_secret()\n",
    "                hint = []\n",
    "            else:\n",
    "                done = True\n",
    "    print(\"Okay. Thanks for playing!\")  # after the while loop, so exit"
   ]
  },
  {
   "cell_type": "markdown",
   "metadata": {},
   "source": [
    "### Here's where we actually run the game:"
   ]
  },
  {
   "cell_type": "code",
   "execution_count": null,
   "metadata": {},
   "outputs": [],
   "source": [
    "if __name__ == \"__main__\":\n",
    "    bagels()"
   ]
  }
 ],
 "metadata": {
  "kernelspec": {
   "display_name": "Python 3",
   "language": "python",
   "name": "python3"
  },
  "language_info": {
   "codemirror_mode": {
    "name": "ipython",
    "version": 3
   },
   "file_extension": ".py",
   "mimetype": "text/x-python",
   "name": "python",
   "nbconvert_exporter": "python",
   "pygments_lexer": "ipython3",
   "version": "3.6.1"
  }
 },
 "nbformat": 4,
 "nbformat_minor": 2
}
